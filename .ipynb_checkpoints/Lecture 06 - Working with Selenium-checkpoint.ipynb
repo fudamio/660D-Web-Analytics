{
 "cells": [
  {
   "cell_type": "code",
   "execution_count": null,
   "metadata": {},
   "outputs": [],
   "source": [
    "from selenium import webdriver\n",
    "from selenium.webdriver.support.select import Select"
   ]
  },
  {
   "cell_type": "code",
   "execution_count": null,
   "metadata": {},
   "outputs": [],
   "source": [
    "# NOTE TO SELF: DEMO THIS ERROR\n",
    "driver = webdriver.Firefox(executable_path=r'C:\\Users\\peluc\\Downloads\\geckodriver-v0.19.1-win64\\geckodriver.exe')"
   ]
  },
  {
   "cell_type": "code",
   "execution_count": null,
   "metadata": {},
   "outputs": [],
   "source": [
    "driver.close()"
   ]
  },
  {
   "cell_type": "code",
   "execution_count": null,
   "metadata": {},
   "outputs": [],
   "source": [
    "driver = webdriver.Chrome(executable_path=r'C:\\Users\\peluc\\Downloads\\chromedriver_win32\\chromedriver.exe')"
   ]
  },
  {
   "cell_type": "code",
   "execution_count": null,
   "metadata": {},
   "outputs": [],
   "source": [
    "driver.get('http://www.mlb.com')"
   ]
  },
  {
   "cell_type": "code",
   "execution_count": null,
   "metadata": {},
   "outputs": [],
   "source": [
    "# rant about variable names... please stop using temp1, thing2, a3, etc. \n",
    "# it's a terrible practice and will more than likely scare away any future employer that sees your code...\n",
    "stats_header_bar = driver.find_element_by_class_name('megamenu-navbar-overflow__menu-item--stats')\n",
    "# READ MORE: http://selenium-python.readthedocs.io/locating-elements.html"
   ]
  },
  {
   "cell_type": "code",
   "execution_count": null,
   "metadata": {},
   "outputs": [],
   "source": [
    "# NOTE TO SELF: Mention XPATH and CSS selectors"
   ]
  },
  {
   "cell_type": "code",
   "execution_count": null,
   "metadata": {},
   "outputs": [],
   "source": [
    "stats_header_bar.click()"
   ]
  },
  {
   "cell_type": "code",
   "execution_count": null,
   "metadata": {},
   "outputs": [],
   "source": [
    "stats_line_items = stats_header_bar.find_elements_by_tag_name('li')"
   ]
  },
  {
   "cell_type": "code",
   "execution_count": null,
   "metadata": {},
   "outputs": [],
   "source": [
    "stats_line_items[0].click()"
   ]
  },
  {
   "cell_type": "code",
   "execution_count": null,
   "metadata": {},
   "outputs": [],
   "source": [
    "hitting_season_element = driver.find_element_by_id('sp_hitting_season')\n",
    "season_select = Select(hitting_season_element)"
   ]
  },
  {
   "cell_type": "code",
   "execution_count": null,
   "metadata": {},
   "outputs": [],
   "source": [
    "season_select.select_by_index(2)\n",
    "# season_select.select_by_value('2015')\n",
    "# season_select.select_by_visible_text('2014')\n",
    "\n",
    "# What is the difference between each of these methods? What are you selecting on?"
   ]
  },
  {
   "cell_type": "code",
   "execution_count": null,
   "metadata": {},
   "outputs": [],
   "source": [
    "from selenium.webdriver import ActionChains\n",
    "from selenium.webdriver.common.by import By\n",
    "from selenium.webdriver.support import expected_conditions as EC\n",
    "from selenium.webdriver.support.wait import WebDriverWait"
   ]
  },
  {
   "cell_type": "code",
   "execution_count": null,
   "metadata": {},
   "outputs": [],
   "source": [
    "import random\n",
    "import time"
   ]
  },
  {
   "cell_type": "code",
   "execution_count": null,
   "metadata": {},
   "outputs": [],
   "source": [
    "# Now let's do the same thing by moving the \"mouse\" using ActionChains\n",
    "driver.get('http://www.mlb.com')\n",
    "\n",
    "# Why would we need to wait when running this script? Try copying the above code and running at once.\n",
    "wait = WebDriverWait(driver, 10)\n",
    "\n",
    "stats_header_bar = wait.until(EC.visibility_of_element_located((By.CLASS_NAME, 'megamenu-navbar-overflow__menu-item--stats')))\n",
    "# READ MORE: http://selenium-python.readthedocs.io/waits.html\n",
    "\n",
    "print('The stats dropdown in the header was loaded successfully. The mouse will move over the element after a short delay')\n",
    "normal_delay = random.normalvariate(2, 0.5)\n",
    "print('Sleeping for {} seconds'.format(normal_delay))\n",
    "time.sleep(normal_delay)\n",
    "print('Now moving mouse...')\n",
    "ActionChains(driver).move_to_element(stats_header_bar).perform()\n",
    "\n",
    "# Use delays wisely to look more human. Check out the other distributions that you have available to use."
   ]
  },
  {
   "cell_type": "code",
   "execution_count": null,
   "metadata": {},
   "outputs": [],
   "source": [
    "stats_line_items = stats_header_bar.find_elements_by_tag_name('li')"
   ]
  },
  {
   "cell_type": "code",
   "execution_count": null,
   "metadata": {},
   "outputs": [],
   "source": [
    "[li.text for li in stats_line_items]"
   ]
  },
  {
   "cell_type": "code",
   "execution_count": null,
   "metadata": {},
   "outputs": [],
   "source": [
    "# make your own helper functions\n",
    "def select_element_by_text(elements, text):\n",
    "    for e in elements:\n",
    "        if e.text == text:\n",
    "            return e\n",
    "        \n",
    "    return None"
   ]
  },
  {
   "cell_type": "code",
   "execution_count": null,
   "metadata": {},
   "outputs": [],
   "source": [
    "reg_season_stats_2017 = select_element_by_text(stats_line_items, '2017 Regular Season Stats')"
   ]
  },
  {
   "cell_type": "code",
   "execution_count": null,
   "metadata": {},
   "outputs": [],
   "source": [
    "ActionChains(driver).move_to_element(reg_season_stats_2017).click().perform()"
   ]
  },
  {
   "cell_type": "code",
   "execution_count": null,
   "metadata": {},
   "outputs": [],
   "source": [
    "active_player_search_div = driver.find_element_by_id('active-player-search')"
   ]
  },
  {
   "cell_type": "code",
   "execution_count": null,
   "metadata": {},
   "outputs": [],
   "source": [
    "active_player_search_input = active_player_search_div.find_element_by_tag_name('input')"
   ]
  },
  {
   "cell_type": "code",
   "execution_count": null,
   "metadata": {},
   "outputs": [],
   "source": [
    "active_player_search_input.send_keys('Saladino')"
   ]
  },
  {
   "cell_type": "code",
   "execution_count": null,
   "metadata": {},
   "outputs": [],
   "source": [
    "search_results = active_player_search_div.find_elements_by_tag_name('li')"
   ]
  },
  {
   "cell_type": "code",
   "execution_count": null,
   "metadata": {},
   "outputs": [],
   "source": [
    "[sr.text for sr in search_results]"
   ]
  },
  {
   "cell_type": "code",
   "execution_count": null,
   "metadata": {},
   "outputs": [],
   "source": [
    "ActionChains(driver).move_to_element(search_results[0]).click().perform()"
   ]
  },
  {
   "cell_type": "code",
   "execution_count": null,
   "metadata": {},
   "outputs": [],
   "source": [
    "driver.back()"
   ]
  },
  {
   "cell_type": "code",
   "execution_count": null,
   "metadata": {},
   "outputs": [],
   "source": [
    "from selenium.webdriver.common.keys import Keys\n",
    "\n",
    "active_player_search_input.send_keys('Saladino')\n",
    "active_player_search_input.send_keys(Keys.ENTER)\n",
    "\n",
    "# Why does it break?"
   ]
  },
  {
   "cell_type": "code",
   "execution_count": null,
   "metadata": {},
   "outputs": [],
   "source": [
    "# practice for you\n",
    "\"\"\"\n",
    "Write a function that will scrape all of the tabular data on the current stats page. \n",
    "You will need this for the next assignment. I suggest using the remaining class time to work on this so you can ask questions.\n",
    "\"\"\"\n",
    "def extract_stats_data(driver):\n",
    "    # your code here, you remember how to use BeautifulSoup, yes? It's soup time.\n",
    "    # let me show you something cool\n",
    "    data_div = driver.find_element_by_id('datagrid')\n",
    "    data_html = data_div.get_attribute('innerHTML')\n",
    "    # what's in data_html? Here's some more element attributes: https://developer.mozilla.org/en-US/docs/Web/API/Element#Properties\n",
    "    pass\n",
    "\n",
    "\"\"\"\n",
    "Write a helper function to click the pagination buttons for you. You should probably use this in a while loop.\n",
    "In other words,\n",
    "WHILE there is another page to view\n",
    "scrape the data\n",
    "click the next page\n",
    "wait for the data to load\n",
    "ENDWHILE\n",
    "\"\"\"\n",
    "def click_next_page_for_stats(driver):\n",
    "    # help getting started\n",
    "    id_of_pagination_div = 'YOU FIGURE IT OUT'\n",
    "    \n",
    "    pagination_div = driver.find_element_by_id(id_of_pagination_div)\n",
    "    # now you have the outer div for the pagination buttons\n",
    "    \n",
    "    # find the next page button\n",
    "    \n",
    "    # click the next page button, if you can. How do you know if you can't? \n",
    "    # Interact with the page and watch what happens to the elements in devtools\n",
    "    # This will be useful info for the while loop mentioned above.\n",
    "    "
   ]
  },
  {
   "cell_type": "code",
   "execution_count": null,
   "metadata": {},
   "outputs": [],
   "source": []
  }
 ],
 "metadata": {
  "kernelspec": {
   "display_name": "Python 3",
   "language": "python",
   "name": "python3"
  },
  "language_info": {
   "codemirror_mode": {
    "name": "ipython",
    "version": 3
   },
   "file_extension": ".py",
   "mimetype": "text/x-python",
   "name": "python",
   "nbconvert_exporter": "python",
   "pygments_lexer": "ipython3",
   "version": "3.5.4"
  }
 },
 "nbformat": 4,
 "nbformat_minor": 2
}
