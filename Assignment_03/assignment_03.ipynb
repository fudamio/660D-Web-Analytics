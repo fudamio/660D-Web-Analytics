{
 "cells": [
  {
   "cell_type": "code",
   "execution_count": 1,
   "metadata": {},
   "outputs": [],
   "source": [
    "import pandas as pd\n",
    "from sklearn.pipeline import Pipeline\n",
    "import matplotlib.pyplot as plt\n",
    "import seaborn as sns\n",
    "import numpy as np\n",
    "import spacy\n",
    "from sklearn.feature_extraction.text import TfidfVectorizer\n",
    "from sklearn.base import BaseEstimator, TransformerMixin\n",
    "from sklearn.pipeline import Pipeline\n",
    "from sklearn.ensemble import RandomForestClassifier\n",
    "from sklearn.model_selection import cross_val_score\n",
    "from sklearn.pipeline import make_pipeline\n",
    "\n",
    "nlp = spacy.load('en')\n",
    "%matplotlib inline"
   ]
  },
  {
   "cell_type": "code",
   "execution_count": 2,
   "metadata": {},
   "outputs": [
    {
     "data": {
      "text/html": [
       "<div>\n",
       "<style scoped>\n",
       "    .dataframe tbody tr th:only-of-type {\n",
       "        vertical-align: middle;\n",
       "    }\n",
       "\n",
       "    .dataframe tbody tr th {\n",
       "        vertical-align: top;\n",
       "    }\n",
       "\n",
       "    .dataframe thead th {\n",
       "        text-align: right;\n",
       "    }\n",
       "</style>\n",
       "<table border=\"1\" class=\"dataframe\">\n",
       "  <thead>\n",
       "    <tr style=\"text-align: right;\">\n",
       "      <th></th>\n",
       "      <th>Date</th>\n",
       "      <th>Image</th>\n",
       "      <th>Review</th>\n",
       "      <th>Star</th>\n",
       "      <th>Status</th>\n",
       "      <th>Subject</th>\n",
       "      <th>author</th>\n",
       "    </tr>\n",
       "  </thead>\n",
       "  <tbody>\n",
       "    <tr>\n",
       "      <th>0</th>\n",
       "      <td>2017-03-04</td>\n",
       "      <td>1</td>\n",
       "      <td>These Rockbirds LED Flashlights I bought came ...</td>\n",
       "      <td>5.0 out of 5 stars</td>\n",
       "      <td>Verified Purchase</td>\n",
       "      <td>Quality made and a fantastic deal!  Let me sho...</td>\n",
       "      <td>GardenGuy</td>\n",
       "    </tr>\n",
       "    <tr>\n",
       "      <th>1</th>\n",
       "      <td>2018-02-10</td>\n",
       "      <td>0</td>\n",
       "      <td>Given my many prior, poor experiences with sev...</td>\n",
       "      <td>4.0 out of 5 stars</td>\n",
       "      <td>Verified Purchase</td>\n",
       "      <td>Miniature in size &amp; price, but big on light ou...</td>\n",
       "      <td>NSB</td>\n",
       "    </tr>\n",
       "    <tr>\n",
       "      <th>10</th>\n",
       "      <td>2017-04-30</td>\n",
       "      <td>0</td>\n",
       "      <td>Really love these little flashlights, they're ...</td>\n",
       "      <td>4.0 out of 5 stars</td>\n",
       "      <td>Verified Purchase</td>\n",
       "      <td>Fantastic Little Flashlight, Except...</td>\n",
       "      <td>The Great Buzzwami</td>\n",
       "    </tr>\n",
       "    <tr>\n",
       "      <th>100</th>\n",
       "      <td>2017-06-27</td>\n",
       "      <td>0</td>\n",
       "      <td>little rust inside and poor quality</td>\n",
       "      <td>1.0 out of 5 stars</td>\n",
       "      <td>Verified Purchase</td>\n",
       "      <td>One Star</td>\n",
       "      <td>Joe</td>\n",
       "    </tr>\n",
       "    <tr>\n",
       "      <th>1000</th>\n",
       "      <td>2018-04-09</td>\n",
       "      <td>0</td>\n",
       "      <td>Great little bright light!</td>\n",
       "      <td>5.0 out of 5 stars</td>\n",
       "      <td>Verified Purchase</td>\n",
       "      <td>Five Stars</td>\n",
       "      <td>Laura</td>\n",
       "    </tr>\n",
       "  </tbody>\n",
       "</table>\n",
       "</div>"
      ],
      "text/plain": [
       "           Date  Image                                             Review  \\\n",
       "0    2017-03-04      1  These Rockbirds LED Flashlights I bought came ...   \n",
       "1    2018-02-10      0  Given my many prior, poor experiences with sev...   \n",
       "10   2017-04-30      0  Really love these little flashlights, they're ...   \n",
       "100  2017-06-27      0                little rust inside and poor quality   \n",
       "1000 2018-04-09      0                         Great little bright light!   \n",
       "\n",
       "                    Star             Status  \\\n",
       "0     5.0 out of 5 stars  Verified Purchase   \n",
       "1     4.0 out of 5 stars  Verified Purchase   \n",
       "10    4.0 out of 5 stars  Verified Purchase   \n",
       "100   1.0 out of 5 stars  Verified Purchase   \n",
       "1000  5.0 out of 5 stars  Verified Purchase   \n",
       "\n",
       "                                                Subject              author  \n",
       "0     Quality made and a fantastic deal!  Let me sho...           GardenGuy  \n",
       "1     Miniature in size & price, but big on light ou...                 NSB  \n",
       "10               Fantastic Little Flashlight, Except...  The Great Buzzwami  \n",
       "100                                            One Star                 Joe  \n",
       "1000                                         Five Stars               Laura  "
      ]
     },
     "execution_count": 2,
     "metadata": {},
     "output_type": "execute_result"
    }
   ],
   "source": [
    "df = pd.read_json('reviews.json')\n",
    "df.head()"
   ]
  },
  {
   "cell_type": "code",
   "execution_count": 3,
   "metadata": {},
   "outputs": [],
   "source": [
    "#extract star\n",
    "df['Star'] = df['Star'].apply(lambda x: x.split(' ')[0])\n",
    "#since every row represents a verified purchase just drop the column\n",
    "df.drop('Status',inplace=True,axis=1)\n",
    "#convert Star to numeric \n",
    "df.Star = pd.to_numeric(df.Star)\n",
    "#convert Data to datetime and pick data after January 1st, 2017\n",
    "df.Date = pd.to_datetime(df.Date)\n",
    "df= df[df['Date'] > '2017-01-01']\n",
    "#Extract the month of the reviews\n",
    "df['month'] = pd.to_datetime(df.Date).dt.month\n",
    "#Extract the day of the reviews\n",
    "df['day'] = pd.to_datetime(df.Date).dt.day\n",
    "df = df.reset_index(drop=True)"
   ]
  },
  {
   "cell_type": "markdown",
   "metadata": {},
   "source": [
    "## Star distribution\n",
    "- The mean star of all reviews are 4.2"
   ]
  },
  {
   "cell_type": "code",
   "execution_count": 4,
   "metadata": {},
   "outputs": [
    {
     "data": {
      "image/png": "[encoded data removed]",
      "text/plain": [
       "<matplotlib.figure.Figure at 0x2062e041eb8>"
      ]
     },
     "metadata": {},
     "output_type": "display_data"
    }
   ],
   "source": [
    "plt.hist(df.Star)\n",
    "plt.show()"
   ]
  },
  {
   "cell_type": "code",
   "execution_count": 5,
   "metadata": {},
   "outputs": [
    {
     "data": {
      "text/plain": [
       "count    813.000000\n",
       "mean       4.211562\n",
       "std        1.298735\n",
       "min        1.000000\n",
       "25%        4.000000\n",
       "50%        5.000000\n",
       "75%        5.000000\n",
       "max        5.000000\n",
       "Name: Star, dtype: float64"
      ]
     },
     "execution_count": 5,
     "metadata": {},
     "output_type": "execute_result"
    }
   ],
   "source": [
    "df.Star.describe()"
   ]
  },
  {
   "cell_type": "markdown",
   "metadata": {},
   "source": [
    "## Average stars per month\n",
    "- the plot of mean star for every month shows that the month may influence the star reviews made"
   ]
  },
  {
   "cell_type": "code",
   "execution_count": 6,
   "metadata": {},
   "outputs": [
    {
     "data": {
      "text/plain": [
       "<matplotlib.axes._subplots.AxesSubplot at 0x2062c7ab160>"
      ]
     },
     "execution_count": 6,
     "metadata": {},
     "output_type": "execute_result"
    },
    {
     "data": {
      "image/png": "[encoded data removed]",
      "text/plain": [
       "<matplotlib.figure.Figure at 0x2062c7ab128>"
      ]
     },
     "metadata": {},
     "output_type": "display_data"
    }
   ],
   "source": [
    "df.groupby(['month']).Star.mean().plot(kind='line')"
   ]
  },
  {
   "cell_type": "markdown",
   "metadata": {},
   "source": [
    "### Let's count the number of reviews each reviewers made\n",
    "- Chris and Eric made 4 reviews and there are names like CJ and B which seems like a nickname let's check their reviews"
   ]
  },
  {
   "cell_type": "code",
   "execution_count": 7,
   "metadata": {},
   "outputs": [
    {
     "data": {
      "text/plain": [
       "<matplotlib.axes._subplots.AxesSubplot at 0x2062c7ab4e0>"
      ]
     },
     "execution_count": 7,
     "metadata": {},
     "output_type": "execute_result"
    },
    {
     "data": {
      "image/png": "[encoded data removed]",
      "text/plain": [
       "<matplotlib.figure.Figure at 0x20623a08320>"
      ]
     },
     "metadata": {},
     "output_type": "display_data"
    }
   ],
   "source": [
    "df.groupby(['author']).Star.count().sort_values(ascending=False)[:20].plot(kind='bar')"
   ]
  },
  {
   "cell_type": "code",
   "execution_count": 8,
   "metadata": {},
   "outputs": [
    {
     "data": {
      "text/html": [
       "<div>\n",
       "<style scoped>\n",
       "    .dataframe tbody tr th:only-of-type {\n",
       "        vertical-align: middle;\n",
       "    }\n",
       "\n",
       "    .dataframe tbody tr th {\n",
       "        vertical-align: top;\n",
       "    }\n",
       "\n",
       "    .dataframe thead th {\n",
       "        text-align: right;\n",
       "    }\n",
       "</style>\n",
       "<table border=\"1\" class=\"dataframe\">\n",
       "  <thead>\n",
       "    <tr style=\"text-align: right;\">\n",
       "      <th></th>\n",
       "      <th>Date</th>\n",
       "      <th>Image</th>\n",
       "      <th>Review</th>\n",
       "      <th>Star</th>\n",
       "      <th>Subject</th>\n",
       "      <th>author</th>\n",
       "      <th>month</th>\n",
       "      <th>day</th>\n",
       "    </tr>\n",
       "  </thead>\n",
       "  <tbody>\n",
       "    <tr>\n",
       "      <th>24</th>\n",
       "      <td>2017-09-21</td>\n",
       "      <td>0</td>\n",
       "      <td>Very bright and compact</td>\n",
       "      <td>5.0</td>\n",
       "      <td>Works great</td>\n",
       "      <td>Eric</td>\n",
       "      <td>9</td>\n",
       "      <td>21</td>\n",
       "    </tr>\n",
       "    <tr>\n",
       "      <th>105</th>\n",
       "      <td>2017-12-31</td>\n",
       "      <td>0</td>\n",
       "      <td>These are good to have everywhere, especially ...</td>\n",
       "      <td>5.0</td>\n",
       "      <td>Handy with the clip on side</td>\n",
       "      <td>CJ</td>\n",
       "      <td>12</td>\n",
       "      <td>31</td>\n",
       "    </tr>\n",
       "    <tr>\n",
       "      <th>218</th>\n",
       "      <td>2017-09-13</td>\n",
       "      <td>0</td>\n",
       "      <td>Bought before hurricane Irma. Wanted led flash...</td>\n",
       "      <td>5.0</td>\n",
       "      <td>Bought before hurricane Irma. Wanted led flash...</td>\n",
       "      <td>CJ</td>\n",
       "      <td>9</td>\n",
       "      <td>13</td>\n",
       "    </tr>\n",
       "    <tr>\n",
       "      <th>365</th>\n",
       "      <td>2017-09-19</td>\n",
       "      <td>0</td>\n",
       "      <td>works good.  Love that it takes 1 AA and its p...</td>\n",
       "      <td>5.0</td>\n",
       "      <td>Pretty good.</td>\n",
       "      <td>Eric</td>\n",
       "      <td>9</td>\n",
       "      <td>19</td>\n",
       "    </tr>\n",
       "    <tr>\n",
       "      <th>371</th>\n",
       "      <td>2018-03-04</td>\n",
       "      <td>0</td>\n",
       "      <td>Very bright flashlight.  Used at the beach wal...</td>\n",
       "      <td>5.0</td>\n",
       "      <td>Good flashlights for the price</td>\n",
       "      <td>Eric</td>\n",
       "      <td>3</td>\n",
       "      <td>4</td>\n",
       "    </tr>\n",
       "    <tr>\n",
       "      <th>389</th>\n",
       "      <td>2017-04-12</td>\n",
       "      <td>0</td>\n",
       "      <td>Pretty Good, Not as expected for any pinpoint ...</td>\n",
       "      <td>4.0</td>\n",
       "      <td>Pretty Good, Not as expected for any pinpoint ...</td>\n",
       "      <td>Eric</td>\n",
       "      <td>4</td>\n",
       "      <td>12</td>\n",
       "    </tr>\n",
       "    <tr>\n",
       "      <th>391</th>\n",
       "      <td>2017-08-29</td>\n",
       "      <td>0</td>\n",
       "      <td>These are amazingly good little flashlights.  ...</td>\n",
       "      <td>5.0</td>\n",
       "      <td>Five Stars</td>\n",
       "      <td>Chris</td>\n",
       "      <td>8</td>\n",
       "      <td>29</td>\n",
       "    </tr>\n",
       "    <tr>\n",
       "      <th>422</th>\n",
       "      <td>2018-02-13</td>\n",
       "      <td>0</td>\n",
       "      <td>Small and powerful!</td>\n",
       "      <td>5.0</td>\n",
       "      <td>Five Stars</td>\n",
       "      <td>Chris</td>\n",
       "      <td>2</td>\n",
       "      <td>13</td>\n",
       "    </tr>\n",
       "    <tr>\n",
       "      <th>607</th>\n",
       "      <td>2017-06-27</td>\n",
       "      <td>0</td>\n",
       "      <td>Just received these today. So far so good, not...</td>\n",
       "      <td>2.0</td>\n",
       "      <td>So far so good, not super bright but not bad e...</td>\n",
       "      <td>Chris</td>\n",
       "      <td>6</td>\n",
       "      <td>27</td>\n",
       "    </tr>\n",
       "    <tr>\n",
       "      <th>665</th>\n",
       "      <td>2017-05-10</td>\n",
       "      <td>1</td>\n",
       "      <td>I got the 4 pack camping lights the other day....</td>\n",
       "      <td>5.0</td>\n",
       "      <td>lightweight,good for group camping</td>\n",
       "      <td>Chris</td>\n",
       "      <td>5</td>\n",
       "      <td>10</td>\n",
       "    </tr>\n",
       "  </tbody>\n",
       "</table>\n",
       "</div>"
      ],
      "text/plain": [
       "          Date  Image                                             Review  \\\n",
       "24  2017-09-21      0                            Very bright and compact   \n",
       "105 2017-12-31      0  These are good to have everywhere, especially ...   \n",
       "218 2017-09-13      0  Bought before hurricane Irma. Wanted led flash...   \n",
       "365 2017-09-19      0  works good.  Love that it takes 1 AA and its p...   \n",
       "371 2018-03-04      0  Very bright flashlight.  Used at the beach wal...   \n",
       "389 2017-04-12      0  Pretty Good, Not as expected for any pinpoint ...   \n",
       "391 2017-08-29      0  These are amazingly good little flashlights.  ...   \n",
       "422 2018-02-13      0                                Small and powerful!   \n",
       "607 2017-06-27      0  Just received these today. So far so good, not...   \n",
       "665 2017-05-10      1  I got the 4 pack camping lights the other day....   \n",
       "\n",
       "     Star                                            Subject author  month  \\\n",
       "24    5.0                                        Works great   Eric      9   \n",
       "105   5.0                        Handy with the clip on side     CJ     12   \n",
       "218   5.0  Bought before hurricane Irma. Wanted led flash...     CJ      9   \n",
       "365   5.0                                       Pretty good.   Eric      9   \n",
       "371   5.0                     Good flashlights for the price   Eric      3   \n",
       "389   4.0  Pretty Good, Not as expected for any pinpoint ...   Eric      4   \n",
       "391   5.0                                         Five Stars  Chris      8   \n",
       "422   5.0                                         Five Stars  Chris      2   \n",
       "607   2.0  So far so good, not super bright but not bad e...  Chris      6   \n",
       "665   5.0                 lightweight,good for group camping  Chris      5   \n",
       "\n",
       "     day  \n",
       "24    21  \n",
       "105   31  \n",
       "218   13  \n",
       "365   19  \n",
       "371    4  \n",
       "389   12  \n",
       "391   29  \n",
       "422   13  \n",
       "607   27  \n",
       "665   10  "
      ]
     },
     "execution_count": 8,
     "metadata": {},
     "output_type": "execute_result"
    }
   ],
   "source": [
    "df[df['author'].isin(['Chris','Eric','CJ'])]"
   ]
  },
  {
   "cell_type": "markdown",
   "metadata": {},
   "source": [
    " Seems everything goes well so we can't get much information from Author of the review"
   ]
  },
  {
   "cell_type": "code",
   "execution_count": 9,
   "metadata": {},
   "outputs": [],
   "source": [
    "df.drop(['author','Date','day'],inplace=True,axis=1)"
   ]
  },
  {
   "cell_type": "markdown",
   "metadata": {},
   "source": [
    "###  Let's see if the length of the review will reflect the reviewer's attitute toward the item"
   ]
  },
  {
   "cell_type": "code",
   "execution_count": 10,
   "metadata": {},
   "outputs": [],
   "source": [
    "df['Length_of_Review'] = df.Review.apply(lambda x: len(x))"
   ]
  },
  {
   "cell_type": "code",
   "execution_count": 11,
   "metadata": {},
   "outputs": [],
   "source": [
    "df['Length_cat'] = np.ceil(df['Length_of_Review']/200)"
   ]
  },
  {
   "cell_type": "code",
   "execution_count": 12,
   "metadata": {},
   "outputs": [
    {
     "data": {
      "text/plain": [
       "<matplotlib.axes._subplots.AxesSubplot at 0x2062e6c95f8>"
      ]
     },
     "execution_count": 12,
     "metadata": {},
     "output_type": "execute_result"
    },
    {
     "data": {
      "image/png": "[encoded data removed]",
      "text/plain": [
       "<matplotlib.figure.Figure at 0x2062e6d8940>"
      ]
     },
     "metadata": {},
     "output_type": "display_data"
    }
   ],
   "source": [
    "df.groupby('Length_cat').Star.mean().plot(kind='line')"
   ]
  },
  {
   "cell_type": "code",
   "execution_count": 13,
   "metadata": {},
   "outputs": [
    {
     "data": {
      "text/plain": [
       "1.0     600\n",
       "2.0     139\n",
       "3.0      43\n",
       "4.0      20\n",
       "5.0       7\n",
       "13.0      1\n",
       "7.0       1\n",
       "6.0       1\n",
       "11.0      1\n",
       "Name: Length_cat, dtype: int64"
      ]
     },
     "execution_count": 13,
     "metadata": {},
     "output_type": "execute_result"
    }
   ],
   "source": [
    "df['Length_cat'].value_counts()"
   ]
  },
  {
   "cell_type": "code",
   "execution_count": 14,
   "metadata": {},
   "outputs": [
    {
     "data": {
      "text/plain": [
       "array([[ 1.        , -0.04624103],\n",
       "       [-0.04624103,  1.        ]])"
      ]
     },
     "execution_count": 14,
     "metadata": {},
     "output_type": "execute_result"
    }
   ],
   "source": [
    "np.corrcoef([df['Length_cat'],df['Star']])"
   ]
  },
  {
   "cell_type": "markdown",
   "metadata": {},
   "source": [
    "### seems the length of the review does not correlate to the star, the gap in 6 of the Length_cat is because of the one single review so it's not representative."
   ]
  },
  {
   "cell_type": "code",
   "execution_count": 15,
   "metadata": {},
   "outputs": [],
   "source": [
    "df.drop(['Length_of_Review'],axis=1,inplace=True)"
   ]
  },
  {
   "cell_type": "markdown",
   "metadata": {},
   "source": [
    "## Sentiment Analysis\n",
    "- here we use nltk to process sentiment analysis to see if we can extract information from review's sentiment"
   ]
  },
  {
   "cell_type": "code",
   "execution_count": 16,
   "metadata": {},
   "outputs": [
    {
     "name": "stderr",
     "output_type": "stream",
     "text": [
      "C:\\Users\\lin\\Anaconda3\\lib\\site-packages\\nltk\\twitter\\__init__.py:20: UserWarning: The twython library has not been installed. Some functionality from the twitter package will not be available.\n",
      "  warnings.warn(\"The twython library has not been installed. \"\n"
     ]
    }
   ],
   "source": [
    "from nltk.sentiment.vader import SentimentIntensityAnalyzer\n",
    "sid = SentimentIntensityAnalyzer()\n",
    "ss = sid.polarity_scores(df.Review[0])"
   ]
  },
  {
   "cell_type": "code",
   "execution_count": 17,
   "metadata": {},
   "outputs": [],
   "source": [
    "compound=[]\n",
    "neg=[]\n",
    "neu=[]\n",
    "pos=[]\n",
    "for i in range(len(df)):\n",
    "    ss = sid.polarity_scores(df.Review[i])\n",
    "    compound.append(ss['compound'])\n",
    "    neg.append(ss['neg'])\n",
    "    neu.append(ss['neu'])\n",
    "    pos.append(ss['pos'])\n",
    "df['Review_compund']=compound\n",
    "df['Review_neg']=neg\n",
    "df['Review_neu']=neu\n",
    "df['Review_pos']=pos"
   ]
  },
  {
   "cell_type": "code",
   "execution_count": 18,
   "metadata": {},
   "outputs": [],
   "source": [
    "compound=[]\n",
    "neg=[]\n",
    "neu=[]\n",
    "pos=[]\n",
    "for i in range(len(df)):\n",
    "    ss = sid.polarity_scores(df.Subject[i])\n",
    "    compound.append(ss['compound'])\n",
    "    neg.append(ss['neg'])\n",
    "    neu.append(ss['neu'])\n",
    "    pos.append(ss['pos'])\n",
    "df['Subject_compund']=compound\n",
    "df['Subject_neg']=neg\n",
    "df['Subject_neu']=neu\n",
    "df['Subject_pos']=pos"
   ]
  },
  {
   "cell_type": "code",
   "execution_count": 19,
   "metadata": {},
   "outputs": [
    {
     "data": {
      "text/plain": [
       "<matplotlib.axes._subplots.AxesSubplot at 0x20630e2cd30>"
      ]
     },
     "execution_count": 19,
     "metadata": {},
     "output_type": "execute_result"
    },
    {
     "data": {
      "image/png": "[encoded data removed]",
      "text/plain": [
       "<matplotlib.figure.Figure at 0x20630cdc7f0>"
      ]
     },
     "metadata": {},
     "output_type": "display_data"
    }
   ],
   "source": [
    "corr = df[['Star','Image','month', 'Length_cat',\n",
    "       'Review_compund', 'Review_neg', 'Review_neu', 'Review_pos',\n",
    "       'Subject_compund', 'Subject_neg', 'Subject_neu', 'Subject_pos']].corr()\n",
    "sns.set(style=\"white\")\n",
    "mask = np.zeros_like(corr, dtype=np.bool)\n",
    "mask[np.triu_indices_from(mask)] = True\n",
    "f, ax = plt.subplots(figsize=(11, 9))\n",
    "cmap = sns.diverging_palette(220, 10, as_cmap=True)\n",
    "\n",
    "\n",
    "sns.heatmap(corr, mask=mask, cmap=cmap, vmax=.3, center=0,\n",
    "            square=True, linewidths=.5, cbar_kws={\"shrink\": .5})"
   ]
  },
  {
   "cell_type": "markdown",
   "metadata": {},
   "source": [
    "## Correlation Heatmap\n",
    "- from correlation heatmap we can see that review and subjects' sentiment will reflect the Star customer made"
   ]
  },
  {
   "cell_type": "markdown",
   "metadata": {},
   "source": [
    "## vectorize our reviews and subject\n",
    "- but first we want to lemmatize our sentence"
   ]
  },
  {
   "cell_type": "code",
   "execution_count": 20,
   "metadata": {},
   "outputs": [],
   "source": [
    "def lemmatize(sentence):    \n",
    "    doc = nlp(sentence)    \n",
    "    preprocessed_sentences  = ' '.join([t.lemma_ for t in doc])\n",
    "    preprocessed_sentences = preprocessed_sentences.replace('-PRON-' , '')\n",
    "    preprocessed_sentences = preprocessed_sentences.replace('-pron-' , '')\n",
    "    return preprocessed_sentences "
   ]
  },
  {
   "cell_type": "code",
   "execution_count": 21,
   "metadata": {},
   "outputs": [],
   "source": [
    "df.Review = df.Review.apply(lemmatize)\n",
    "df.Subject = df.Subject.apply(lemmatize)"
   ]
  },
  {
   "cell_type": "markdown",
   "metadata": {},
   "source": [
    "### Now we can use TF-IDF algorithm to vectorize our reviews and subject"
   ]
  },
  {
   "cell_type": "code",
   "execution_count": 22,
   "metadata": {},
   "outputs": [],
   "source": [
    "class Vectorizer(BaseEstimator, TransformerMixin):\n",
    "    def __init__(self,max_df=1,min_df=0,ngram_range=(1,2)):\n",
    "        self.max_df = max_df\n",
    "        self.min_df = min_df\n",
    "        self.ngram_range =ngram_range\n",
    "        \n",
    "    def fit(self, X, y=None):\n",
    "        return self\n",
    "        \n",
    "    def transform(self, X):\n",
    "        vectorizer = TfidfVectorizer(ngram_range=self.ngram_range,stop_words='english',max_df=self.max_df,min_df=self.min_df)\n",
    "        review_vector = vectorizer.fit_transform(X['Review'])\n",
    "        subject_vector = vectorizer.fit_transform(X['Subject'])\n",
    "        vec_df = pd.concat([pd.DataFrame(review_vector.toarray()),pd.DataFrame(subject_vector.toarray())],axis=1)\n",
    "        vec_df = pd.concat([vec_df,df.drop(['Review','Subject'],axis=1)],axis=1)\n",
    "        vec_df = vec_df.fillna(0)\n",
    "    \n",
    "        return vec_df"
   ]
  },
  {
   "cell_type": "code",
   "execution_count": 23,
   "metadata": {},
   "outputs": [],
   "source": [
    "label = df.Star\n",
    "data= df.drop('Star',axis=1)"
   ]
  },
  {
   "cell_type": "markdown",
   "metadata": {},
   "source": [
    "### Let's train our model"
   ]
  },
  {
   "cell_type": "code",
   "execution_count": 24,
   "metadata": {},
   "outputs": [
    {
     "data": {
      "text/plain": [
       "0.84660576717352742"
      ]
     },
     "execution_count": 24,
     "metadata": {},
     "output_type": "execute_result"
    }
   ],
   "source": [
    "vec = Vectorizer()\n",
    "pre_process_data = vec.fit_transform(data)\n",
    "#first vectorize our review and subject\n",
    "rf = RandomForestClassifier()\n",
    "cross_val_score(rf, X=pre_process_data, y=label, cv=10,scoring='accuracy').mean()"
   ]
  },
  {
   "cell_type": "markdown",
   "metadata": {},
   "source": [
    "### Using RandomForestClassifier the mean accuracy of 10 fold cross validation is 85.13%"
   ]
  },
  {
   "cell_type": "markdown",
   "metadata": {},
   "source": [
    "### Data Augmentation\n",
    "Since it's an unbalanced dataset we can use RandomOverSampler to generate new samples in the classes which are under-represented"
   ]
  },
  {
   "cell_type": "code",
   "execution_count": 25,
   "metadata": {},
   "outputs": [
    {
     "data": {
      "text/plain": [
       "0.99735123367198852"
      ]
     },
     "execution_count": 25,
     "metadata": {},
     "output_type": "execute_result"
    }
   ],
   "source": [
    "from imblearn.over_sampling import RandomOverSampler\n",
    "ros = RandomOverSampler(random_state=0)\n",
    "X_resampled, y_resampled = ros.fit_sample(pre_process_data, label)\n",
    "cross_val_score(rf, X=X_resampled, y=y_resampled, cv=10).mean()\n"
   ]
  },
  {
   "cell_type": "markdown",
   "metadata": {},
   "source": [
    "#### after data augmentation the mean accuracy of 10 fold cross validation is 99.77%"
   ]
  }
 ],
 "metadata": {
  "kernelspec": {
   "display_name": "Python 3",
   "language": "python",
   "name": "python3"
  },
  "language_info": {
   "codemirror_mode": {
    "name": "ipython",
    "version": 3
   },
   "file_extension": ".py",
   "mimetype": "text/x-python",
   "name": "python",
   "nbconvert_exporter": "python",
   "pygments_lexer": "ipython3",
   "version": "3.5.4"
  }
 },
 "nbformat": 4,
 "nbformat_minor": 2
}
